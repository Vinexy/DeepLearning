{
 "cells": [
  {
   "cell_type": "code",
   "execution_count": 1,
   "id": "915c7911",
   "metadata": {},
   "outputs": [
    {
     "data": {
      "text/plain": [
       "-1"
      ]
     },
     "execution_count": 1,
     "metadata": {},
     "output_type": "execute_result"
    }
   ],
   "source": [
    "import pytesseract\n",
    "import cv2\n",
    "img = cv2.imread('try.png')\n",
    "img = cv2.resize(img, (720, 480))\n",
    "cv2.imshow('Result', img)\n",
    "cv2.waitKey(0)"
   ]
  },
  {
   "cell_type": "code",
   "execution_count": 2,
   "id": "48b6518b",
   "metadata": {},
   "outputs": [],
   "source": [
    "pytesseract.pytesseract.tesseract_cmd = r\"C:\\Program Files\\Tesseract-OCR\\tesseract.exe\""
   ]
  },
  {
   "cell_type": "code",
   "execution_count": 3,
   "id": "7f40c1b8",
   "metadata": {},
   "outputs": [
    {
     "name": "stdout",
     "output_type": "stream",
     "text": [
      "const calculator = new Calculator(previousOperandTextElement,\n",
      "currentOperandTextElement)\n",
      "\n",
      "numberButtons.forEach(button => {\n",
      "button.addEventListener('click', () => {\n",
      "calculator. appendNumber(button. innerText)\n",
      "calculator. updateDisplay()\n",
      "1)\n",
      "})\n",
      "\n",
      "operationButtons.forEach(button => {\n",
      "button. addEventListener(‘click', () => {\n",
      "calculator. chooseOperation(button. innerText)\n",
      "calculator. updateDisplay()\n",
      "i}\n",
      "1}\n",
      "\n",
      "equalsButton.addEventListener('click', button => {\n",
      "calculator. compute()\n",
      "calculator.updateDisplay()\n",
      "\n",
      "1)\n",
      "\n",
      "allClearButton.addEventListener(‘click', button => {\n",
      "calculator.clear{()\n",
      "calculator.updateDisplay()\n",
      "\n",
      "i)\n",
      "\n"
     ]
    },
    {
     "data": {
      "text/plain": [
       "-1"
      ]
     },
     "execution_count": 3,
     "metadata": {},
     "output_type": "execute_result"
    }
   ],
   "source": [
    "import pytesseract\n",
    "import cv2\n",
    "img = cv2.imread('asd.png')\n",
    "img = cv2.resize(img, (800, 1200))\n",
    "print(pytesseract.image_to_string(img))\n",
    "cv2.imshow('Result', img)\n",
    "cv2.waitKey(0)"
   ]
  },
  {
   "cell_type": "code",
   "execution_count": 4,
   "id": "9053fb5f",
   "metadata": {},
   "outputs": [],
   "source": [
    "pytesseract.pytesseract.tesseract_cmd = r\"C:\\Program Files\\Tesseract-OCR\\tesseract.exe\""
   ]
  },
  {
   "cell_type": "code",
   "execution_count": 5,
   "id": "d8c683ca",
   "metadata": {},
   "outputs": [
    {
     "name": "stdout",
     "output_type": "stream",
     "text": [
      "F 376 614 429 667 0\n",
      "A 432 614 507 667 0\n",
      "I 514 614 540 667 0\n",
      "L 552 614 606 667 0\n",
      "U 613 613 682 667 0\n",
      "R 694 614 762 668 0\n",
      "E 767 614 824 667 0\n",
      "i 554 550 581 603 0\n",
      "S 588 549 647 604 0\n",
      "N 485 486 558 539 0\n",
      "O 567 485 646 540 0\n",
      "T 651 486 716 539 0\n",
      "A 519 422 594 475 0\n",
      "N 601 422 674 475 0\n",
      "O 385 357 463 412 0\n",
      "P 473 358 536 412 0\n",
      "T 541 358 605 411 0\n",
      "I 613 358 640 411 0\n",
      "O 649 357 728 412 0\n",
      "N 737 358 810 411 0\n",
      "\n"
     ]
    },
    {
     "data": {
      "text/plain": [
       "-1"
      ]
     },
     "execution_count": 5,
     "metadata": {},
     "output_type": "execute_result"
    }
   ],
   "source": [
    "import pytesseract\n",
    "import cv2\n",
    "img = cv2.imread('try.png')\n",
    "img = cv2.resize(img, (1200, 900))\n",
    "print(pytesseract.image_to_boxes(img))\n",
    "cv2.imshow('Result', img)\n",
    "cv2.waitKey(0)"
   ]
  },
  {
   "cell_type": "code",
   "execution_count": null,
   "id": "011c0293",
   "metadata": {},
   "outputs": [
    {
     "name": "stdout",
     "output_type": "stream",
     "text": [
      "['F', '376', '614', '429', '667', '0']\n",
      "['A', '432', '614', '507', '667', '0']\n",
      "['I', '514', '614', '540', '667', '0']\n",
      "['L', '552', '614', '606', '667', '0']\n",
      "['U', '613', '613', '682', '667', '0']\n",
      "['R', '694', '614', '762', '668', '0']\n",
      "['E', '767', '614', '824', '667', '0']\n",
      "['i', '554', '550', '581', '603', '0']\n",
      "['S', '588', '549', '647', '604', '0']\n",
      "['N', '485', '486', '558', '539', '0']\n",
      "['O', '567', '485', '646', '540', '0']\n",
      "['T', '651', '486', '716', '539', '0']\n",
      "['A', '519', '422', '594', '475', '0']\n",
      "['N', '601', '422', '674', '475', '0']\n",
      "['O', '385', '357', '463', '412', '0']\n",
      "['P', '473', '358', '536', '412', '0']\n",
      "['T', '541', '358', '605', '411', '0']\n",
      "['I', '613', '358', '640', '411', '0']\n",
      "['O', '649', '357', '728', '412', '0']\n",
      "['N', '737', '358', '810', '411', '0']\n"
     ]
    }
   ],
   "source": [
    "import pytesseract\n",
    "import cv2\n",
    "img = cv2.imread('try.png')\n",
    "img = cv2.resize(img, (1200, 900))\n",
    "hImg, wImg, _ = img.shape\n",
    "\n",
    "boxes = pytesseract.image_to_boxes(img)\n",
    "\n",
    "for b in boxes.splitlines():\n",
    "    b = b.split(' ')\n",
    "    print(b)\n",
    "    x, y, w, h = int(b[1]), int(b[2]), int(b[3]), int(b[4])\n",
    "    cv2.rectangle(img, (x, hImg - y), (w, hImg - h), (50, 50, 255), 1)\n",
    "    cv2.putText(img, b[0], (x, hImg - y + 13), cv2.FONT_HERSHEY_SIMPLEX, 0.4, (50, 205, 50), 1)\n",
    "\n",
    "cv2.imshow('Detected text', img)\n",
    "cv2.waitKey(0)"
   ]
  },
  {
   "cell_type": "code",
   "execution_count": null,
   "id": "ee6dee91",
   "metadata": {},
   "outputs": [],
   "source": []
  }
 ],
 "metadata": {
  "kernelspec": {
   "display_name": "Python 3 (ipykernel)",
   "language": "python",
   "name": "python3"
  },
  "language_info": {
   "codemirror_mode": {
    "name": "ipython",
    "version": 3
   },
   "file_extension": ".py",
   "mimetype": "text/x-python",
   "name": "python",
   "nbconvert_exporter": "python",
   "pygments_lexer": "ipython3",
   "version": "3.8.8"
  }
 },
 "nbformat": 4,
 "nbformat_minor": 5
}
