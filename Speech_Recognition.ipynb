{
 "cells": [
  {
   "cell_type": "code",
   "execution_count": null,
   "id": "8519c5fe",
   "metadata": {},
   "outputs": [
    {
     "name": "stdout",
     "output_type": "stream",
     "text": [
      " *- 40. saniyeden başlayarak ilk 4-dklık kayıt -* sevk edilemezler gelir ki bir yerde bir kadro kaldırıldı veyahut da bir mahkeme dediler mahkeme buradan kaldırıldı bunun kaldırılması sebebiyle de kendilerine atamaz arkadaşlar maaşından ödül hakkından vesaire Hakimler dilerim Emlak önemlidir meseledir bunlardan yine yokuşup bırakılan mantar Özellikle coğrafi teminat ülkemizde tartışmalı noktalardan ve bir tanesi 61 Anayasası ile getirilen bir denilen şartları ve de sosyal gerçeklikten ötürü daha sonrasında\n",
      " **- ikinci 4-dk -** kaldıralım işte yeniden getirilmesine yönelik olarak da bir takım çalışmalar yapılıyor makalelerde falan da yargı reformuna ilişkin bazen paketler oluyor o yargıç olmuş arkadaşım de coğrafi teminatında hakimlerin coğrafi teminatında tekrardan çevre gerektirilmesi yine burada öngörülüyor yargı reform stratejisi olabiliyor Yani bu hakim olarak bakarlar iradeniz yok savcılığa getirebilirim daha sonraki göreviniz sadece olmaya Dolayısıyla hakikilerin geçirdiğimizde ama işte bu yargı reformları gerçekleşirse orada yine önermeye şeylerden bir tanesi hatta getirmeyelim Hatta 20 yıl Ticaret tatilinde yapmış birisini ceza hakim'e Yapma yavrum dolayısıyla da şahitlik işte devam etti cezalar akşamıysa cezalarına devam etsin onun tecrübesinden bu şekilde ne yapabiliriz yoksa 20 yıllık 65 hakimi cezayirlik verdiğimiz zaman hani onun arasında çok önemlidir sosyal hakları da Ee değerli arkadaşlar özel düzenlemeleri var 2.800 ee iki sayılı o yasada da uzaklara onların maliyeti sosyal haklarına ilişkin olarak da yine en önemli düzenlemeler var burada tabii hakim ve savcıların idari açan nereye bağlılar bunlar böyle çok sıkıcı ilişkileri var Oraya da bağlı olduklarını ifade edebiliyorsan da Adalet Bakanlığı bünyesinde Kimler var tepki hakimleri hakkında da var yani adam kafamda da ses çıkaracak bir takım orada idari görevleri durumu durumdalar konulardan bir tanesi yani İdare ile ilgili Görüşmeyeli yargının o puanı tamamen kesilmesi gerektiğini Ne alakası var yani gelen camiye gelen eleştirilerden bir tanesi de burada yürütmeyi de biraz kişiye geçmesi ikisini belli alanlarda oluşmuş olmaları da eleştir diye bunu açık olarak arkadaşlar ne yapıyoruz takipçilerin normal koşullarda mesleğe atanması onların Belki ileride ise ne yapıyoruz bağımsız bir kurum olan TSK alimler ve Estağfurullah tarafından Bu gerçekleştiriliyor geçen sefer adaylık eğitiminden bahsetmiştik geçen dersimizde bu adaylık eğitimi neticesinde işte bir sınavda oluyorsunuz sınavı geçtiğimiz zaman artık sizin mesleğe kabulünüzü SSK gerçekleştiriyor bir kura çekerek bizim burada Ee başlamış oluyorsunuz dolayısıyla da mesela kabul Vatan Ha işte meslekten çıkartma yaptı\n",
      " **- üçüncü 4-dk -** Hakimler üzerinde O belli başlı ehliyetleri kullanabilmesi söz konusu olabiliyor bari size SSK'ya bağlı olma olmanız asıl bazen Adalet komisyonları başkenti istedim olmaması gerektiğini ifade olması gereken olmadı arkadaşların olduğunu görüyoruz işte bunu mahkemeleri kanunumuza gelirse kim tutarlar hakimin somut davadaki Neyi esas oluyor falan filan davalardaki O bağımsızlığını sıralamaya çalışan Ee bağımsızlık olması gerektiğini biliyoruz bağımsızlıklara ya da o davanın taraflarına karşı işte bir tarafsızlığı temin etme bakımından getirilmiş olan medreseler Yani bir hakim burada somut olarak fazla düşündüm de 500 tane lades dosyası var diyelim öbür 500 kardeş dosyadan Ben 2 tanesinde yasaklık sebebi gerçekleşmiş olabilir annesiyle de hakimin reklamını gerektiren burada kalamayacağı önemli bir halin var yani görebiliriz dosyalar bakarım ben size zaten Ee hakim burada genellikle falan olaydaki tarafsızlığı sıkıntılardaki falan haksızlığı sağladı Bilmem adına öngörülmüş olan üniversiteler 34 maddeden başlıyoruz dördüncü maddeye kadar giden konu alıyor e burada özellikle yaz tatili taktiği olarak saymış ve de burada yasakmış bedene ayrı ayrı iklimi Üniversitesi Olarak düzenlenmiştir ve sıratay ise haklı bir tane genelde sebebi varsa onun altında da örnekleme suretiyle özellikle sebeplerini almıştır burada Kanun koyucu bizlere gerek yok göstermiştir normal kuşlarda sebebi ise hakemin taraflarından şüphe ile ilgilen önemli bir sebebi bulunması olarak 36 maddelik bir değişiklik Aslında ne yapmıştır bize açıklanmıştır Tabii Burada hakim seri miydi Arkadaşlar biz burada daima bir davaya bakmakta olan kimse üzerinde ele alacağız yoksa belli bir mahkemeye veyahut da belirli bir Ee işte mahkemenin kendisinin Daha doğrusu davaya bakmaktan yasaklı olması gibi bir durum söz konusu olmaz orada görev almış olan kişi bazında hakim inanacak yasaklı böyle yaptı burada gündeme gelebilir olarak Sayıldı demiştim 34 maddede\n"
     ]
    }
   ],
   "source": [
    "import speech_recognition as sr\n",
    "\n",
    "r = sr.Recognizer()\n",
    "\n",
    "with sr.WavFile(\"4medeni.wav\") as source:\n",
    "    \n",
    "        audio1 =r.record(source, offset=205, duration= 35)\n",
    "        audio2 = r.record(source, duration= 240)\n",
    "        audio3 =r.record(source, duration= 240)\n",
    "        audio4 =r.record(source, duration= 240)\n",
    "        audio5 = r.record(source, duration= 240)\n",
    "        audio6 =r.record(source, duration= 240)\n",
    "        audio7 =r.record(source, duration= 240)\n",
    "        audio8 = r.record(source, duration= 240)\n",
    "        audio9 =r.record(source, duration= 240)\n",
    "        audio10 = r.record(source, duration= 240)\n",
    "        audio11 = r.record(source, duration= 240)\n",
    "        audio12 = r.record(source, duration= 240)\n",
    "        \n",
    "        \n",
    "        print(\" *- 40. saniyeden başlayarak ilk 4-dklık kayıt -* \" + r.recognize_google(audio1, language='tr'))\n",
    "        print(\" **- ikinci 4-dk -** \" + r.recognize_google(audio2, language='tr'))\n",
    "        print(\" **- üçüncü 4-dk -** \" + r.recognize_google(audio3, language='tr'))\n",
    "        print(\" **- dördüncü 4-dk -** \" + r.recognize_google(audio4, language='tr'))\n",
    "        print(\" **- beşinci 4-dk -** \" + r.recognize_google(audio5, language='tr'))\n",
    "        print(\" **- altıncı 4-dk -** \" + r.recognize_google(audio6, language='tr'))\n",
    "        print(\" **- yedinci 4-dk -** \" + r.recognize_google(audio7, language='tr'))\n",
    "        print(\" **- sekizinci 4-dk -** \" + r.recognize_google(audio8, language='tr'))\n",
    "        print(\" **- dokuzuncu 4-dk -** \" + r.recognize_google(audio9, language='tr'))\n",
    "        print(\" **- onuncu 4-dk -** \" + r.recognize_google(audio10, language='tr'))\n",
    "        print(\" **- onbirinci 4-dk -** \" + r.recognize_google(audio11, language='tr'))\n",
    "        print(\" **- onikinci 4-dk -** \" + r.recognize_google(audio12, language='tr'))\n",
    "            \n",
    "        \n",
    "            \n",
    "            "
   ]
  },
  {
   "cell_type": "code",
   "execution_count": 2,
   "id": "8af919fb",
   "metadata": {},
   "outputs": [
    {
     "name": "stdout",
     "output_type": "stream",
     "text": [
      " Volume in drive C is SSD\n",
      " Volume Serial Number is 6470-016F\n",
      "\n",
      " Directory of C:\\Users\\Fatih\\Desktop\\Projects\\Machine-Deep Learning Projects\\Speech Recognition\n",
      "\n",
      "01/30/2023  05:00 AM    <DIR>          .\n",
      "01/30/2023  05:00 AM    <DIR>          ..\n",
      "01/30/2023  05:00 AM    <DIR>          .ipynb_checkpoints\n",
      "10/06/2022  05:57 PM           750,886 3.wav\n",
      "10/06/2022  05:17 PM         3,434,750 deneme.wav\n",
      "10/15/2022  12:07 AM       170,037,172 efes.wav\n",
      "10/12/2022  03:48 PM       432,525,390 Medeni.wav\n",
      "10/18/2022  04:07 PM       207,925,326 Medeni_3_3.wav\n",
      "01/30/2023  04:17 AM       259,244,076 Medeni_4_1.wav\n",
      "01/30/2023  05:00 AM       259,244,076 Medeni_4_deneme.wav\n",
      "10/12/2022  03:46 PM        42,184,095 medeni4.m4a\n",
      "01/30/2023  04:24 AM       259,244,076 mywav_reduced_noise.wav\n",
      "01/30/2023  04:43 AM            46,676 Speech Recognition.ipynb\n",
      "10/06/2022  05:46 PM           538,014 speeching.wav\n",
      "              11 File(s)  1,635,174,537 bytes\n",
      "               3 Dir(s)  17,229,320,192 bytes free\n"
     ]
    }
   ],
   "source": []
  },
  {
   "cell_type": "code",
   "execution_count": 2,
   "id": "e503119a",
   "metadata": {},
   "outputs": [
    {
     "name": "stdout",
     "output_type": "stream",
     "text": [
      "Azizler duvardaki yuvalar yeşil yapar çocuk yoğun çimenlere sürünür rüşvet satışı biz dürüstüz adamlar çalışır kıvılcımı ezerler yoksa Alevler yayar kılıcın kabzası oyulmuştur tasarımlar bularak ince tahtadan yuvarlak bir delik delinmiştir Ayak izleri, sahile çıktığı yolu gösterdi, kenarına yakın ön çim etkinliğimde bekliyordu, temiz hava getirdi, yaşlı katırı bir Crooked Stick ile dolandırdı\n"
     ]
    }
   ],
   "source": [
    "from googletrans import Translator\n",
    "translator = Translator()\n",
    "example = translator.translate(r.recognize_google(ses, language='en-en'), dest=\"tr\")\n",
    "print(example.text)"
   ]
  },
  {
   "cell_type": "code",
   "execution_count": 2,
   "id": "b7bf6a9b",
   "metadata": {},
   "outputs": [
    {
     "name": "stdout",
     "output_type": "stream",
     "text": [
      "Arka plan gürültüsü:57.57459289461677\n",
      "alo ses bir ki\n",
      "Benim adım Fatih vak çeviri\n",
      "Ne dediğini anlayamadım\n",
      "senin sesini algılayamıyor mesaj\n",
      "sesi algılayan mesaj değil yani Net konuşmayınca şey oluyor Hani bunlar kullanarak böyle hani bir uygulama yapılabilir bir şeyler yapılabilir bunu bir yerde kullanırsın\n",
      "Ne dediğini anlayamadım\n",
      "öyle bir şey var\n",
      "nasıl olacak biraz\n",
      "Ne dediğini anlayamadım\n",
      "Ne dediğini anlayamadım\n"
     ]
    },
    {
     "ename": "KeyboardInterrupt",
     "evalue": "",
     "output_type": "error",
     "traceback": [
      "\u001b[1;31m---------------------------------------------------------------------------\u001b[0m",
      "\u001b[1;31mKeyboardInterrupt\u001b[0m                         Traceback (most recent call last)",
      "\u001b[1;32m<ipython-input-2-966660b065d4>\u001b[0m in \u001b[0;36m<module>\u001b[1;34m\u001b[0m\n\u001b[0;32m     23\u001b[0m \u001b[1;33m\u001b[0m\u001b[0m\n\u001b[0;32m     24\u001b[0m \u001b[0mr\u001b[0m\u001b[1;33m.\u001b[0m\u001b[0mlisten_in_background\u001b[0m\u001b[1;33m(\u001b[0m\u001b[0mmic\u001b[0m\u001b[1;33m,\u001b[0m \u001b[0mcallback\u001b[0m\u001b[1;33m)\u001b[0m\u001b[1;33m\u001b[0m\u001b[1;33m\u001b[0m\u001b[0m\n\u001b[1;32m---> 25\u001b[1;33m \u001b[1;32mwhile\u001b[0m \u001b[1;32mTrue\u001b[0m\u001b[1;33m:\u001b[0m \u001b[0mtime\u001b[0m\u001b[1;33m.\u001b[0m\u001b[0msleep\u001b[0m\u001b[1;33m(\u001b[0m\u001b[1;36m0.1\u001b[0m\u001b[1;33m)\u001b[0m\u001b[1;33m\u001b[0m\u001b[1;33m\u001b[0m\u001b[0m\n\u001b[0m",
      "\u001b[1;31mKeyboardInterrupt\u001b[0m: "
     ]
    }
   ],
   "source": [
    "import time\n",
    "\n",
    "mic = sr.Microphone() \n",
    "r = sr.Recognizer()\n",
    "\n",
    "with sr.Microphone() as source:\n",
    "    r.adjust_for_ambient_noise(source)\n",
    "    print(\"Arka plan gürültüsü:\" + str(r.energy_threshold))\n",
    "\n",
    "def callback(recognizer, audio):\n",
    "    try:\n",
    "        yazi = r.recognize_google(audio, language='tr-tr')\n",
    "        print(yazi)\n",
    "\n",
    "    except sr.WaitTimeoutError:\n",
    "        print(\"Dinleme zaman aşımına uğradı\")\n",
    "\n",
    "    except sr.UnknownValueError:\n",
    "        print(\"Ne dediğini anlayamadım\")\n",
    "\n",
    "    except sr.RequestError:\n",
    "        print(\"İnternete bağlanamıyorum\")\n",
    "\n",
    "r.listen_in_background(mic, callback)\n",
    "while True: time.sleep(0.1)"
   ]
  },
  {
   "cell_type": "code",
   "execution_count": null,
   "id": "d11341b8",
   "metadata": {},
   "outputs": [],
   "source": [
    "from googletrans import Translator\n",
    "translator = Translator()\n",
    "example = translator.translate(yazi), dest=\"eng-tr\")\n",
    "print(example.text)"
   ]
  },
  {
   "cell_type": "code",
   "execution_count": null,
   "id": "c2514200",
   "metadata": {},
   "outputs": [],
   "source": []
  }
 ],
 "metadata": {
  "kernelspec": {
   "display_name": "Python 3 (ipykernel)",
   "language": "python",
   "name": "python3"
  },
  "language_info": {
   "codemirror_mode": {
    "name": "ipython",
    "version": 3
   },
   "file_extension": ".py",
   "mimetype": "text/x-python",
   "name": "python",
   "nbconvert_exporter": "python",
   "pygments_lexer": "ipython3",
   "version": "3.8.8"
  }
 },
 "nbformat": 4,
 "nbformat_minor": 5
}
